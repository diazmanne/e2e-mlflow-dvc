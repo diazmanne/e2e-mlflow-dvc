{
 "cells": [
  {
   "cell_type": "code",
   "execution_count": 32,
   "id": "d900830b-81d8-4bc2-bdfe-a6092180939c",
   "metadata": {},
   "outputs": [],
   "source": [
    "import os\n",
    "\n"
   ]
  },
  {
   "cell_type": "code",
   "execution_count": 33,
   "id": "84dad38f-7c07-412c-86d7-e4c7c38aa4ef",
   "metadata": {},
   "outputs": [
    {
     "data": {
      "text/plain": [
       "'/home/lab/Workspace/e2e-mlflow-dvc'"
      ]
     },
     "execution_count": 33,
     "metadata": {},
     "output_type": "execute_result"
    }
   ],
   "source": [
    "%pwd"
   ]
  },
  {
   "cell_type": "code",
   "execution_count": 34,
   "id": "ed214b66-239e-448e-9ea5-f2377dffab18",
   "metadata": {},
   "outputs": [
    {
     "name": "stdout",
     "output_type": "stream",
     "text": [
      "/home/lab/Workspace/e2e-mlflow-dvc\n"
     ]
    }
   ],
   "source": [
    "%cd /home/lab/Workspace/e2e-mlflow-dvc"
   ]
  },
  {
   "cell_type": "code",
   "execution_count": 35,
   "id": "04fdb9fd-08e3-4d3e-ae0b-cd8cf632aa2f",
   "metadata": {},
   "outputs": [],
   "source": [
    "#entity DataIngestionConfig \n",
    "from dataclasses import dataclass\n",
    "from pathlib import Path\n",
    "\n",
    "@dataclass(frozen=True)\n",
    "class DataIngestionConfig:\n",
    "    root_dir :Path\n",
    "    source_URL:str\n",
    "    local_data_file: Path\n",
    "    unzip_dir:Path"
   ]
  },
  {
   "cell_type": "code",
   "execution_count": 36,
   "id": "43396399-328e-4d43-b791-f61ea6daa061",
   "metadata": {},
   "outputs": [],
   "source": [
    "from cnnClassifier.constants import *\n",
    "from cnnClassifier.utils.common import read_yaml, create_directories\n",
    "from pathlib import Path\n"
   ]
  },
  {
   "cell_type": "code",
   "execution_count": 37,
   "id": "385df1dc-5e89-458a-8aa1-5586f76fbf41",
   "metadata": {},
   "outputs": [],
   "source": [
    "class ConfigurationManager:\n",
    "    def __init__(self, config_filepath=CONFIG_FILE_PATH, params_filepath=PARAMS_FILE_PATH):\n",
    "        self.config = read_yaml(config_filepath)\n",
    "        self.params = read_yaml(params_filepath)\n",
    "\n",
    "        # Now create the directories using the correct Path type\n",
    "        create_directories([self.config.artifacts_root])\n",
    "\n",
    "    def get_data_ingestion_config(self) -> DataIngestionConfig:\n",
    "        config = self.config.data_ingestion\n",
    "\n",
    "        # Ensure that the root_dir is created as well\n",
    "        create_directories([config.root_dir])\n",
    "\n",
    "        data_ingestion_config = DataIngestionConfig(\n",
    "            root_dir=config.root_dir,\n",
    "            source_URL=config.source_URL,\n",
    "            local_data_file=config.local_data_file,\n",
    "            unzip_dir=config.unzip_dir\n",
    "        )\n",
    "\n",
    "        return data_ingestion_config"
   ]
  },
  {
   "cell_type": "code",
   "execution_count": 42,
   "id": "ab486df3-f6d7-490c-a40e-74dd3a11b6b6",
   "metadata": {},
   "outputs": [],
   "source": [
    "import os\n",
    "import zipfile\n",
    "import gdown\n",
    "from cnnClassifier import logger\n",
    "from cnnClassifier.utils.common import get_size\n"
   ]
  },
  {
   "cell_type": "code",
   "execution_count": 43,
   "id": "16a07c1e-6c25-49f5-a001-8ece8244c824",
   "metadata": {},
   "outputs": [],
   "source": [
    "import gdown\n",
    "from pathlib import Path \n",
    "\n",
    "\n",
    "class DataIngestion:\n",
    "    def __init__(self, config: DataIngestionConfig):\n",
    "        self.config = config\n",
    "\n",
    "    def download_file(self) -> str:\n",
    "        '''\n",
    "        Fetch data from the URL\n",
    "        '''\n",
    "        try: \n",
    "            dataset_url = str(self.config.source_URL)  # Ensure it's a string\n",
    "            zip_download_dir = str(self.config.local_data_file)  # Convert Path to string\n",
    "            os.makedirs(\"artifacts/data_ingestion\", exist_ok=True)\n",
    "            logger.info(f\"Downloading data from {dataset_url} into file {zip_download_dir}\")\n",
    "\n",
    "            file_id = dataset_url.split(\"/\")[-2]\n",
    "            prefix = 'https://drive.google.com/uc?/export=download&id='\n",
    "            gdown.download(prefix + file_id, zip_download_dir)  # Pass string path to gdown\n",
    "\n",
    "            logger.info(f\"Downloaded data from {dataset_url} into file {zip_download_dir}\")\n",
    "\n",
    "        except Exception as e:\n",
    "            raise e\n",
    "    \n",
    "    def extract_zip_file(self):\n",
    "        \"\"\"\n",
    "        zip_file_path: str\n",
    "        Extracts the zip file into the data directory\n",
    "        Function returns None\n",
    "        \"\"\"\n",
    "        unzip_path = self.config.unzip_dir\n",
    "        os.makedirs(unzip_path, exist_ok=True)\n",
    "        with zipfile.ZipFile(self.config.local_data_file, 'r') as zip_ref:\n",
    "            zip_ref.extractall(unzip_path)"
   ]
  },
  {
   "cell_type": "code",
   "execution_count": 44,
   "id": "63070a83-aae5-4aef-b912-48140137b6eb",
   "metadata": {},
   "outputs": [
    {
     "name": "stdout",
     "output_type": "stream",
     "text": [
      "[2025-01-21 23:32:07,367: INFO: common: YAML file loaded successfully: config/config.yaml]\n",
      "[2025-01-21 23:32:07,375: INFO: common: YAML file loaded successfully: params.yaml]\n",
      "[2025-01-21 23:32:07,379: INFO: common: Created directory at: artifacts]\n",
      "[2025-01-21 23:32:07,384: INFO: common: Created directory at: artifacts/data_ingestion]\n",
      "[2025-01-21 23:32:07,387: INFO: 3682014447: Downloading data from https:/drive.google.com/file/d/148SCpWC3EO7phIZZoirIe9itUOgB1Xoe/view?usp=drive_link into file artifacts/data_ingestion/data.zip]\n"
     ]
    },
    {
     "name": "stderr",
     "output_type": "stream",
     "text": [
      "Downloading...\n",
      "From (original): https://drive.google.com/uc?/export=download&id=148SCpWC3EO7phIZZoirIe9itUOgB1Xoe\n",
      "From (redirected): https://drive.google.com/uc?%2Fexport=download&id=148SCpWC3EO7phIZZoirIe9itUOgB1Xoe&confirm=t&uuid=99e7e6e3-4c41-4d7f-858d-da0ecb14eb8d\n",
      "To: /home/lab/Workspace/e2e-mlflow-dvc/artifacts/data_ingestion/data.zip\n",
      "\n",
      "\u001b[A%|                                                                                                                            | 0.00/28.8M [00:00<?, ?B/s]\n",
      "\u001b[A%|██                                                                                                                  | 524k/28.8M [00:00<00:11, 2.40MB/s]\n",
      "\u001b[A%|██████▎                                                                                                            | 1.57M/28.8M [00:00<00:05, 4.73MB/s]\n",
      "\u001b[A%|██████████▍                                                                                                        | 2.62M/28.8M [00:00<00:04, 5.65MB/s]\n",
      "\u001b[A%|██████████████▋                                                                                                    | 3.67M/28.8M [00:00<00:04, 6.18MB/s]\n",
      "\u001b[A%|██████████████████▊                                                                                                | 4.72M/28.8M [00:00<00:03, 6.49MB/s]\n",
      "\u001b[A%|███████████████████████                                                                                            | 5.77M/28.8M [00:00<00:03, 7.13MB/s]\n",
      "\u001b[A%|███████████████████████████▏                                                                                       | 6.82M/28.8M [00:01<00:03, 6.97MB/s]\n",
      "\u001b[A%|███████████████████████████████▍                                                                                   | 7.86M/28.8M [00:01<00:02, 7.59MB/s]\n",
      "\u001b[A%|███████████████████████████████████▌                                                                               | 8.91M/28.8M [00:01<00:02, 7.44MB/s]\n",
      "\u001b[A%|███████████████████████████████████████▊                                                                           | 9.96M/28.8M [00:01<00:02, 7.50MB/s]\n",
      "\u001b[A%|███████████████████████████████████████████▉                                                                       | 11.0M/28.8M [00:01<00:02, 7.56MB/s]\n",
      "\u001b[A%|████████████████████████████████████████████████▏                                                                  | 12.1M/28.8M [00:01<00:02, 8.19MB/s]\n",
      "\u001b[A%|████████████████████████████████████████████████████▎                                                              | 13.1M/28.8M [00:01<00:01, 7.97MB/s]\n",
      "\u001b[A%|████████████████████████████████████████████████████████▌                                                          | 14.2M/28.8M [00:01<00:01, 8.31MB/s]\n",
      "\u001b[A%|████████████████████████████████████████████████████████████▋                                                      | 15.2M/28.8M [00:02<00:01, 7.74MB/s]\n",
      "\u001b[A%|████████████████████████████████████████████████████████████████▉                                                  | 16.3M/28.8M [00:02<00:01, 7.99MB/s]\n",
      "\u001b[A%|█████████████████████████████████████████████████████████████████████                                              | 17.3M/28.8M [00:02<00:01, 7.82MB/s]\n",
      "\u001b[A%|█████████████████████████████████████████████████████████████████████████▎                                         | 18.4M/28.8M [00:02<00:01, 7.94MB/s]\n",
      "\u001b[A%|█████████████████████████████████████████████████████████████████████████████▍                                     | 19.4M/28.8M [00:02<00:01, 8.41MB/s]\n",
      "\u001b[A%|█████████████████████████████████████████████████████████████████████████████████▋                                 | 20.4M/28.8M [00:02<00:01, 7.98MB/s]\n",
      "\u001b[A%|█████████████████████████████████████████████████████████████████████████████████████▊                             | 21.5M/28.8M [00:03<00:01, 6.28MB/s]\n",
      "\u001b[A%|█████████████████████████████████████████████████████████████████████████████████████████▉                         | 22.5M/28.8M [00:03<00:01, 5.65MB/s]\n",
      "\u001b[A%|██████████████████████████████████████████████████████████████████████████████████████████████▏                    | 23.6M/28.8M [00:03<00:00, 5.73MB/s]\n",
      "\u001b[A%|████████████████████████████████████████████████████████████████████████████████████████████████████▍              | 25.2M/28.8M [00:03<00:00, 7.03MB/s]\n",
      "\u001b[A%|████████████████████████████████████████████████████████████████████████████████████████████████████████▋          | 26.2M/28.8M [00:03<00:00, 7.42MB/s]\n",
      "\u001b[A%|██████████████████████████████████████████████████████████████████████████████████████████████████████████████▉    | 27.8M/28.8M [00:03<00:00, 8.43MB/s]\n",
      "100%|███████████████████████████████████████████████████████████████████████████████████████████████████████████████████| 28.8M/28.8M [00:03<00:00, 7.25MB/s]"
     ]
    },
    {
     "name": "stdout",
     "output_type": "stream",
     "text": [
      "[2025-01-21 23:32:15,492: INFO: 3682014447: Downloaded data from https:/drive.google.com/file/d/148SCpWC3EO7phIZZoirIe9itUOgB1Xoe/view?usp=drive_link into file artifacts/data_ingestion/data.zip]\n"
     ]
    },
    {
     "name": "stderr",
     "output_type": "stream",
     "text": [
      "\n"
     ]
    }
   ],
   "source": [
    "try:\n",
    "    config = ConfigurationManager()\n",
    "    data_ingestion_config = config.get_data_ingestion_config()\n",
    "    data_ingestion = DataIngestion(config=data_ingestion_config)\n",
    "    data_ingestion.download_file()\n",
    "    data_ingestion.extract_zip_file()\n",
    "except Exception as e:\n",
    "    raise e"
   ]
  },
  {
   "cell_type": "code",
   "execution_count": null,
   "id": "9b099def-e461-4551-a087-9647b05b952d",
   "metadata": {},
   "outputs": [],
   "source": []
  },
  {
   "cell_type": "code",
   "execution_count": null,
   "id": "abdad68f-ba60-4a1b-b231-b69fcded3466",
   "metadata": {},
   "outputs": [],
   "source": []
  },
  {
   "cell_type": "code",
   "execution_count": null,
   "id": "23300a30-43f1-4eb9-a5fa-7f821b11ba61",
   "metadata": {},
   "outputs": [],
   "source": []
  },
  {
   "cell_type": "code",
   "execution_count": null,
   "id": "2db0a51f-483d-453a-b712-dd14ab95200a",
   "metadata": {},
   "outputs": [],
   "source": []
  }
 ],
 "metadata": {
  "kernelspec": {
   "display_name": "Python 3 (ipykernel)",
   "language": "python",
   "name": "python3"
  },
  "language_info": {
   "codemirror_mode": {
    "name": "ipython",
    "version": 3
   },
   "file_extension": ".py",
   "mimetype": "text/x-python",
   "name": "python",
   "nbconvert_exporter": "python",
   "pygments_lexer": "ipython3",
   "version": "3.8.20"
  }
 },
 "nbformat": 4,
 "nbformat_minor": 5
}
