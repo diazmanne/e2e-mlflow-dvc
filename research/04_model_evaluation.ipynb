{
 "cells": [
  {
   "cell_type": "code",
   "execution_count": 10,
   "id": "3ed9c22a-538d-475c-b7de-076ebd462849",
   "metadata": {},
   "outputs": [],
   "source": [
    "import os \n"
   ]
  },
  {
   "cell_type": "code",
   "execution_count": 11,
   "id": "0c9efddc-15fa-45e3-a350-c00609cf0826",
   "metadata": {},
   "outputs": [
    {
     "name": "stdout",
     "output_type": "stream",
     "text": [
      "/home/lab/Workspace/e2e-mlflow-dvc\n"
     ]
    }
   ],
   "source": [
    "%cd /home/lab/Workspace/e2e-mlflow-dvc"
   ]
  },
  {
   "cell_type": "code",
   "execution_count": 12,
   "id": "dcef0dad-eccd-4b64-97d8-c5217f579672",
   "metadata": {},
   "outputs": [],
   "source": [
    "os.environ[\"MLFLOW_TRACKING_URI\"]=\"https://dagshub.com/diazmanne/e2e-mlflow-dvc.mlflow\"\n",
    "os.environ[\"MLFLOW_TRACKING_USERNAME\"]=\"diazmanne\"\n",
    "os.environ[\"MLFLOW_TRACKING_PASSWORD\"]=\"f4e87115c3d98a2ef151c0469443be9738fa35ff\""
   ]
  },
  {
   "cell_type": "code",
   "execution_count": 13,
   "id": "430867b4-9cf5-45f6-8e8a-111d81c120e1",
   "metadata": {},
   "outputs": [],
   "source": [
    "import tensorflow as tf "
   ]
  },
  {
   "cell_type": "code",
   "execution_count": 14,
   "id": "aaaf93fd-bc49-475e-9aab-34f5b74ac000",
   "metadata": {},
   "outputs": [],
   "source": [
    "model = tf.keras.models.load_model(\"artifacts/training/trained_model.keras\")"
   ]
  },
  {
   "cell_type": "code",
   "execution_count": 15,
   "id": "64d4fee1-c910-4990-a24f-0ba9d0956c2d",
   "metadata": {},
   "outputs": [],
   "source": [
    "#entity utils/config_entity.py\n",
    "\n",
    "from dataclasses import dataclass\n",
    "from pathlib import Path\n",
    "\n",
    "@dataclass(frozen=True)\n",
    "class EvaluationConfig:\n",
    "    path_of_model: Path\n",
    "    test_data: Path\n",
    "    all_params: dict\n",
    "    mlflow_uri: str\n",
    "    params_image_size: list\n",
    "    params_batch_size: int\n",
    "    "
   ]
  },
  {
   "cell_type": "code",
   "execution_count": 21,
   "id": "04567648-baef-4a31-97a7-2bf4a3d15e50",
   "metadata": {},
   "outputs": [],
   "source": [
    "from cnnClassifier.constants import * # Path(\"config/config.yaml\") and Path(\"params.yaml\")\n",
    "from cnnClassifier.utils.common import read_yaml, create_directories, save_json # methods "
   ]
  },
  {
   "cell_type": "code",
   "execution_count": 22,
   "id": "5ce681f5-47e9-4d14-96e3-bba241104457",
   "metadata": {},
   "outputs": [],
   "source": [
    "class ConfigurationManager:\n",
    "    def __init__(\n",
    "        self, \n",
    "        config_filepath = CONFIG_FILE_PATH,\n",
    "        params_filepath = PARAMS_FILE_PATH\n",
    "    ):\n",
    "        self.config = read_yaml(config_filepath)\n",
    "        self.params = read_yaml(params_filepath)\n",
    "        create_directories([self.config[\"artifacts_root\"]])\n",
    "    \n",
    "    def get_evaluation_config(self) -> EvaluationConfig:\n",
    "        evaluation_config = self.config[\"evaluation\"]\n",
    "        return EvaluationConfig(\n",
    "            path_of_model=Path(evaluation_config[\"trained_model_path\"]),\n",
    "            test_data=Path(evaluation_config[\"test_data_path\"]),\n",
    "            all_params=evaluation_config.get(\"all_params\", {}),\n",
    "            mlflow_uri=self.config[\"mlflow_uri\"],\n",
    "            params_image_size=self.params[\"IMAGE_SIZE\"],\n",
    "            params_batch_size=self.params[\"BATCH_SIZE\"]\n",
    "        )"
   ]
  },
  {
   "cell_type": "code",
   "execution_count": 23,
   "id": "d344d6ae-9791-466a-a3fa-89a31413be56",
   "metadata": {},
   "outputs": [],
   "source": [
    "import tensorflow as tf\n",
    "from pathlib import Path\n",
    "import mlflow\n",
    "import mlflow.keras\n",
    "from urllib.parse import urlparse"
   ]
  },
  {
   "cell_type": "code",
   "execution_count": 24,
   "id": "7ebdb82f-e934-434f-bb47-1cb6a43e4083",
   "metadata": {},
   "outputs": [],
   "source": [
    "class Evaluation:\n",
    "    def __init__(self, config: EvaluationConfig):\n",
    "        self.config = config\n",
    "\n",
    "        \n",
    "    def _valid_generator(self):\n",
    "\n",
    "        datagenerator_kwargs = dict(\n",
    "            rescale = 1./255,\n",
    "            validation_split=0.30\n",
    "        )\n",
    "\n",
    "        dataflow_kwargs = dict(\n",
    "            target_size=self.config.params_image_size[:-1],\n",
    "            batch_size=self.config.params_batch_size,\n",
    "            interpolation=\"bilinear\"\n",
    "        )\n",
    "\n",
    "        valid_datagenerator = tf.keras.preprocessing.image.ImageDataGenerator(\n",
    "            **datagenerator_kwargs\n",
    "        )\n",
    "\n",
    "        self.valid_generator = valid_datagenerator.flow_from_directory(\n",
    "            directory=self.config.training_data,\n",
    "            subset=\"validation\",\n",
    "            shuffle=False,\n",
    "            **dataflow_kwargs\n",
    "        )\n",
    "    # load and evaluate model     \n",
    "    @staticmethod\n",
    "    def load_model(path: Path) -> tf.keras.Model:\n",
    "        return tf.keras.models.load_model(path)\n",
    "    \n",
    "\n",
    "    def evaluation(self):\n",
    "        self.model = self.load_model(self.config.path_of_model)\n",
    "        self._valid_generator()\n",
    "        self.score = model.evaluate(self.valid_generator)\n",
    "        self.save_score()\n",
    "\n",
    "    def save_score(self):\n",
    "        scores = {\"loss\": self.score[0], \"accuracy\": self.score[1]}\n",
    "        save_json(path=Path(\"scores.json\"), data=scores)\n",
    "\n",
    "    # MLFLOW seup \n",
    "    def log_into_mlflow(self):\n",
    "        mlflow.set_registry_uri(self.config.mlflow_uri)\n",
    "        tracking_url_type_store = urlparse(mlflow.get_tracking_uri()).scheme\n",
    "        \n",
    "        with mlflow.start_run():\n",
    "            mlflow.log_params(self.config.all_params)\n",
    "            mlflow.log_metrics(\n",
    "                {\"loss\": self.score[0], \"accuracy\": self.score[1]}\n",
    "            )\n",
    "            # Model registry does not work with file store\n",
    "            if tracking_url_type_store != \"file\":\n",
    "\n",
    "                # Register the model\n",
    "                # There are other ways to use the Model Registry, which depends on the use case,\n",
    "                # please refer to the doc for more information:\n",
    "                # https://mlflow.org/docs/latest/model-registry.html#api-workflow\n",
    "                mlflow.keras.log_model(self.model, \"model\", registered_model_name=\"VGG16Model\")\n",
    "            else:\n",
    "                mlflow.keras.log_model(self.model, \"model\")"
   ]
  },
  {
   "cell_type": "code",
   "execution_count": 25,
   "id": "0e6fad2e-3d14-4cec-972e-0ab6eaed926d",
   "metadata": {},
   "outputs": [
    {
     "name": "stdout",
     "output_type": "stream",
     "text": [
      "[2025-01-26 19:21:38,035: INFO: common: YAML file loaded successfully: config/config.yaml]\n",
      "[2025-01-26 19:21:38,042: INFO: common: YAML file loaded successfully: params.yaml]\n",
      "[2025-01-26 19:21:38,045: INFO: common: Created directory at: artifacts]\n"
     ]
    },
    {
     "ename": "BoxKeyError",
     "evalue": "\"'mlflow_uri'\"",
     "output_type": "error",
     "traceback": [
      "\u001b[0;31m---------------------------------------------------------------------------\u001b[0m",
      "\u001b[0;31mKeyError\u001b[0m                                  Traceback (most recent call last)",
      "File \u001b[0;32m~/miniconda3/envs/cancer/lib/python3.8/site-packages/box/box.py:503\u001b[0m, in \u001b[0;36mbox.box.Box.__getitem__\u001b[0;34m()\u001b[0m\n",
      "\u001b[0;31mKeyError\u001b[0m: 'mlflow_uri'",
      "\nThe above exception was the direct cause of the following exception:\n",
      "\u001b[0;31mBoxKeyError\u001b[0m                               Traceback (most recent call last)",
      "Cell \u001b[0;32mIn[25], line 9\u001b[0m\n\u001b[1;32m      6\u001b[0m     evaluation\u001b[38;5;241m.\u001b[39mlog_into_mlflow()\n\u001b[1;32m      8\u001b[0m \u001b[38;5;28;01mexcept\u001b[39;00m \u001b[38;5;167;01mException\u001b[39;00m \u001b[38;5;28;01mas\u001b[39;00m e:\n\u001b[0;32m----> 9\u001b[0m    \u001b[38;5;28;01mraise\u001b[39;00m e\n",
      "Cell \u001b[0;32mIn[25], line 3\u001b[0m\n\u001b[1;32m      1\u001b[0m \u001b[38;5;28;01mtry\u001b[39;00m:\n\u001b[1;32m      2\u001b[0m     config \u001b[38;5;241m=\u001b[39m ConfigurationManager()\n\u001b[0;32m----> 3\u001b[0m     eval_config \u001b[38;5;241m=\u001b[39m \u001b[43mconfig\u001b[49m\u001b[38;5;241;43m.\u001b[39;49m\u001b[43mget_evaluation_config\u001b[49m\u001b[43m(\u001b[49m\u001b[43m)\u001b[49m\n\u001b[1;32m      4\u001b[0m     evaluation \u001b[38;5;241m=\u001b[39m Evaluation(eval_config)\n\u001b[1;32m      5\u001b[0m     evaluation\u001b[38;5;241m.\u001b[39mevaluation()\n",
      "Cell \u001b[0;32mIn[22], line 17\u001b[0m, in \u001b[0;36mConfigurationManager.get_evaluation_config\u001b[0;34m(self)\u001b[0m\n\u001b[1;32m     11\u001b[0m \u001b[38;5;28;01mdef\u001b[39;00m\u001b[38;5;250m \u001b[39m\u001b[38;5;21mget_evaluation_config\u001b[39m(\u001b[38;5;28mself\u001b[39m) \u001b[38;5;241m-\u001b[39m\u001b[38;5;241m>\u001b[39m EvaluationConfig:\n\u001b[1;32m     12\u001b[0m     evaluation_config \u001b[38;5;241m=\u001b[39m \u001b[38;5;28mself\u001b[39m\u001b[38;5;241m.\u001b[39mconfig[\u001b[38;5;124m\"\u001b[39m\u001b[38;5;124mevaluation\u001b[39m\u001b[38;5;124m\"\u001b[39m]\n\u001b[1;32m     13\u001b[0m     \u001b[38;5;28;01mreturn\u001b[39;00m EvaluationConfig(\n\u001b[1;32m     14\u001b[0m         path_of_model\u001b[38;5;241m=\u001b[39mPath(evaluation_config[\u001b[38;5;124m\"\u001b[39m\u001b[38;5;124mtrained_model_path\u001b[39m\u001b[38;5;124m\"\u001b[39m]),\n\u001b[1;32m     15\u001b[0m         test_data\u001b[38;5;241m=\u001b[39mPath(evaluation_config[\u001b[38;5;124m\"\u001b[39m\u001b[38;5;124mtest_data_path\u001b[39m\u001b[38;5;124m\"\u001b[39m]),\n\u001b[1;32m     16\u001b[0m         all_params\u001b[38;5;241m=\u001b[39mevaluation_config\u001b[38;5;241m.\u001b[39mget(\u001b[38;5;124m\"\u001b[39m\u001b[38;5;124mall_params\u001b[39m\u001b[38;5;124m\"\u001b[39m, {}),\n\u001b[0;32m---> 17\u001b[0m         mlflow_uri\u001b[38;5;241m=\u001b[39m\u001b[38;5;28;43mself\u001b[39;49m\u001b[38;5;241;43m.\u001b[39;49m\u001b[43mconfig\u001b[49m\u001b[43m[\u001b[49m\u001b[38;5;124;43m\"\u001b[39;49m\u001b[38;5;124;43mmlflow_uri\u001b[39;49m\u001b[38;5;124;43m\"\u001b[39;49m\u001b[43m]\u001b[49m,\n\u001b[1;32m     18\u001b[0m         params_image_size\u001b[38;5;241m=\u001b[39m\u001b[38;5;28mself\u001b[39m\u001b[38;5;241m.\u001b[39mparams[\u001b[38;5;124m\"\u001b[39m\u001b[38;5;124mIMAGE_SIZE\u001b[39m\u001b[38;5;124m\"\u001b[39m],\n\u001b[1;32m     19\u001b[0m         params_batch_size\u001b[38;5;241m=\u001b[39m\u001b[38;5;28mself\u001b[39m\u001b[38;5;241m.\u001b[39mparams[\u001b[38;5;124m\"\u001b[39m\u001b[38;5;124mBATCH_SIZE\u001b[39m\u001b[38;5;124m\"\u001b[39m]\n\u001b[1;32m     20\u001b[0m     )\n",
      "File \u001b[0;32m~/miniconda3/envs/cancer/lib/python3.8/site-packages/box/box.py:524\u001b[0m, in \u001b[0;36mbox.box.Box.__getitem__\u001b[0;34m()\u001b[0m\n",
      "\u001b[0;31mBoxKeyError\u001b[0m: \"'mlflow_uri'\""
     ]
    }
   ],
   "source": [
    "try:\n",
    "    config = ConfigurationManager()\n",
    "    eval_config = config.get_evaluation_config()\n",
    "    evaluation = Evaluation(eval_config)\n",
    "    evaluation.evaluation()\n",
    "    evaluation.log_into_mlflow()\n",
    "\n",
    "except Exception as e:\n",
    "   raise e"
   ]
  },
  {
   "cell_type": "code",
   "execution_count": null,
   "id": "90f831fa-5c55-4a11-bbe4-ff5e8b149993",
   "metadata": {},
   "outputs": [],
   "source": []
  },
  {
   "cell_type": "code",
   "execution_count": null,
   "id": "6cdca629-ff77-4b6c-addc-102f6ace8adc",
   "metadata": {},
   "outputs": [],
   "source": []
  }
 ],
 "metadata": {
  "kernelspec": {
   "display_name": "Python 3 (ipykernel)",
   "language": "python",
   "name": "python3"
  },
  "language_info": {
   "codemirror_mode": {
    "name": "ipython",
    "version": 3
   },
   "file_extension": ".py",
   "mimetype": "text/x-python",
   "name": "python",
   "nbconvert_exporter": "python",
   "pygments_lexer": "ipython3",
   "version": "3.8.20"
  }
 },
 "nbformat": 4,
 "nbformat_minor": 5
}
