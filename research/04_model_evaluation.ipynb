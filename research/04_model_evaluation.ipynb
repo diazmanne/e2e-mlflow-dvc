{
 "cells": [
  {
   "cell_type": "code",
   "execution_count": 1,
   "id": "3ed9c22a-538d-475c-b7de-076ebd462849",
   "metadata": {},
   "outputs": [
    {
     "name": "stderr",
     "output_type": "stream",
     "text": [
      "2025-01-27 15:45:38.108420: I tensorflow/tsl/cuda/cudart_stub.cc:28] Could not find cuda drivers on your machine, GPU will not be used.\n",
      "2025-01-27 15:45:38.171618: I tensorflow/tsl/cuda/cudart_stub.cc:28] Could not find cuda drivers on your machine, GPU will not be used.\n",
      "2025-01-27 15:45:39.396394: W tensorflow/compiler/tf2tensorrt/utils/py_utils.cc:38] TF-TRT Warning: Could not find TensorRT\n"
     ]
    }
   ],
   "source": [
    "import os \n",
    "import tensorflow as tf"
   ]
  },
  {
   "cell_type": "code",
   "execution_count": 2,
   "id": "0c9efddc-15fa-45e3-a350-c00609cf0826",
   "metadata": {},
   "outputs": [
    {
     "name": "stdout",
     "output_type": "stream",
     "text": [
      "/home/lab/Workspace/e2e-mlflow-dvc\n"
     ]
    }
   ],
   "source": [
    "%cd /home/lab/Workspace/e2e-mlflow-dvc"
   ]
  },
  {
   "cell_type": "code",
   "execution_count": 3,
   "id": "dcef0dad-eccd-4b64-97d8-c5217f579672",
   "metadata": {},
   "outputs": [],
   "source": [
    "os.environ[\"MLFLOW_TRACKING_URI\"]=\"https://dagshub.com/diazmanne/e2e-mlflow-dvc.mlflow\"\n",
    "os.environ[\"MLFLOW_TRACKING_USERNAME\"]=\"diazmanne\"\n",
    "os.environ[\"MLFLOW_TRACKING_PASSWORD\"]=\"f4e87115c3d98a2ef151c0469443be9738fa35ff\""
   ]
  },
  {
   "cell_type": "code",
   "execution_count": 4,
   "id": "aaaf93fd-bc49-475e-9aab-34f5b74ac000",
   "metadata": {},
   "outputs": [],
   "source": [
    "model = tf.keras.models.load_model(\"artifacts/training/trained_model.keras\")"
   ]
  },
  {
   "cell_type": "code",
   "execution_count": 8,
   "id": "64d4fee1-c910-4990-a24f-0ba9d0956c2d",
   "metadata": {},
   "outputs": [],
   "source": [
    "from dataclasses import dataclass\n",
    "from pathlib import Path\n",
    "from typing import List, Dict\n",
    "\n",
    "@dataclass(frozen=True)\n",
    "class EvaluationConfig:\n",
    "    path_of_model: Path\n",
    "    test_data: Path\n",
    "    training_data: Path\n",
    "    all_params: Dict\n",
    "    mlflow_uri: str\n",
    "    params_image_size: List[int]\n",
    "    params_batch_size: int\n",
    "\n",
    "\n",
    "# Validation function\n",
    "def validate_evaluation_config(evaluation_config: EvaluationConfig):\n",
    "    print(f\"Model Path: {evaluation_config.path_of_model}\")\n",
    "    print(f\"Test Data Path: {evaluation_config.test_data}\")\n",
    "    print(f\"Training Data Path: {evaluation_config.training_data}\")\n",
    "    print(f\"MLflow URI: {evaluation_config.mlflow_uri}\")\n",
    "    print(f\"Image Size: {evaluation_config.params_image_size}\")\n",
    "    print(f\"Batch Size: {evaluation_config.params_batch_size}\")\n",
    "    print(f\"All Params: {evaluation_config.all_params}\")\n"
   ]
  },
  {
   "cell_type": "code",
   "execution_count": 9,
   "id": "04567648-baef-4a31-97a7-2bf4a3d15e50",
   "metadata": {},
   "outputs": [
    {
     "ename": "NameError",
     "evalue": "name 'evaluation' is not defined",
     "output_type": "error",
     "traceback": [
      "\u001b[0;31m---------------------------------------------------------------------------\u001b[0m",
      "\u001b[0;31mNameError\u001b[0m                                 Traceback (most recent call last)",
      "Cell \u001b[0;32mIn[9], line 2\u001b[0m\n\u001b[1;32m      1\u001b[0m evaluation_config \u001b[38;5;241m=\u001b[39m EvaluationConfig(\n\u001b[0;32m----> 2\u001b[0m     path_of_model\u001b[38;5;241m=\u001b[39mPath(\u001b[43mevaluation\u001b[49m[\u001b[38;5;124m\"\u001b[39m\u001b[38;5;124mtrained_model_path\u001b[39m\u001b[38;5;124m\"\u001b[39m]),\n\u001b[1;32m      3\u001b[0m     test_data\u001b[38;5;241m=\u001b[39mPath(evaluation[\u001b[38;5;124m\"\u001b[39m\u001b[38;5;124mtest_data_path\u001b[39m\u001b[38;5;124m\"\u001b[39m]),\n\u001b[1;32m      4\u001b[0m     training_data\u001b[38;5;241m=\u001b[39mPath(evaluation[\u001b[38;5;124m\"\u001b[39m\u001b[38;5;124mtraining_data_path\u001b[39m\u001b[38;5;124m\"\u001b[39m]),\n\u001b[1;32m      5\u001b[0m     all_params\u001b[38;5;241m=\u001b[39mevaluation,\n\u001b[1;32m      6\u001b[0m     mlflow_uri\u001b[38;5;241m=\u001b[39mmlflow_uri,\n\u001b[1;32m      7\u001b[0m     params_image_size\u001b[38;5;241m=\u001b[39mparams_image_size,\n\u001b[1;32m      8\u001b[0m     params_batch_size\u001b[38;5;241m=\u001b[39mparams_batch_size\n\u001b[1;32m      9\u001b[0m )\n\u001b[1;32m     11\u001b[0m \u001b[38;5;66;03m# Call validation function\u001b[39;00m\n\u001b[1;32m     12\u001b[0m validate_evaluation_config(evaluation_config)\n",
      "\u001b[0;31mNameError\u001b[0m: name 'evaluation' is not defined"
     ]
    }
   ],
   "source": [
    "evaluation_config = EvaluationConfig(\n",
    "    path_of_model=Path(evaluation[\"trained_model_path\"]),\n",
    "    test_data=Path(evaluation[\"test_data_path\"]),\n",
    "    training_data=Path(evaluation[\"training_data_path\"]),\n",
    "    all_params=evaluation,\n",
    "    mlflow_uri=mlflow_uri,\n",
    "    params_image_size=params_image_size,\n",
    "    params_batch_size=params_batch_size\n",
    ")\n",
    "\n",
    "# Call validation function\n",
    "validate_evaluation_config(evaluation_config)"
   ]
  },
  {
   "cell_type": "code",
   "execution_count": null,
   "id": "5ce681f5-47e9-4d14-96e3-bba241104457",
   "metadata": {},
   "outputs": [],
   "source": []
  },
  {
   "cell_type": "code",
   "execution_count": null,
   "id": "d344d6ae-9791-466a-a3fa-89a31413be56",
   "metadata": {},
   "outputs": [],
   "source": []
  },
  {
   "cell_type": "code",
   "execution_count": null,
   "id": "7ebdb82f-e934-434f-bb47-1cb6a43e4083",
   "metadata": {},
   "outputs": [],
   "source": []
  },
  {
   "cell_type": "code",
   "execution_count": null,
   "id": "0e6fad2e-3d14-4cec-972e-0ab6eaed926d",
   "metadata": {},
   "outputs": [],
   "source": []
  },
  {
   "cell_type": "code",
   "execution_count": null,
   "id": "90f831fa-5c55-4a11-bbe4-ff5e8b149993",
   "metadata": {},
   "outputs": [],
   "source": []
  },
  {
   "cell_type": "code",
   "execution_count": null,
   "id": "6cdca629-ff77-4b6c-addc-102f6ace8adc",
   "metadata": {},
   "outputs": [],
   "source": []
  }
 ],
 "metadata": {
  "kernelspec": {
   "display_name": "Python 3 (ipykernel)",
   "language": "python",
   "name": "python3"
  },
  "language_info": {
   "codemirror_mode": {
    "name": "ipython",
    "version": 3
   },
   "file_extension": ".py",
   "mimetype": "text/x-python",
   "name": "python",
   "nbconvert_exporter": "python",
   "pygments_lexer": "ipython3",
   "version": "3.8.20"
  }
 },
 "nbformat": 4,
 "nbformat_minor": 5
}
