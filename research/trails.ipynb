{
 "cells": [
  {
   "cell_type": "code",
   "execution_count": 1,
   "id": "02a4a0ef-2bd6-4ea1-bb93-db7c936043ba",
   "metadata": {},
   "outputs": [],
   "source": [
    "import gdown"
   ]
  },
  {
   "cell_type": "code",
   "execution_count": 2,
   "id": "62b68a8a-ba02-49da-93c3-ebeaf69e365c",
   "metadata": {},
   "outputs": [],
   "source": [
    "url = \"https://drive.google.com/file/d/148SCpWC3EO7phIZZoirIe9itUOgB1Xoe/view?usp=drive_link\""
   ]
  },
  {
   "cell_type": "code",
   "execution_count": 7,
   "id": "8a4012f0-52ef-4d74-b1d6-bf8f703aecdd",
   "metadata": {},
   "outputs": [
    {
     "data": {
      "text/plain": [
       "str"
      ]
     },
     "execution_count": 7,
     "metadata": {},
     "output_type": "execute_result"
    }
   ],
   "source": [
    "type(url)"
   ]
  },
  {
   "cell_type": "code",
   "execution_count": 8,
   "id": "b50c12ae-7476-4dee-bcfc-9b3d2ad1b456",
   "metadata": {},
   "outputs": [
    {
     "data": {
      "text/plain": [
       "'148SCpWC3EO7phIZZoirIe9itUOgB1Xoe'"
      ]
     },
     "execution_count": 8,
     "metadata": {},
     "output_type": "execute_result"
    }
   ],
   "source": [
    "file_id = url.split(\"/\")[-2]\n",
    "file_id"
   ]
  },
  {
   "cell_type": "code",
   "execution_count": 11,
   "id": "003792a5-3d95-4bbf-bbf3-35f7c6b4e550",
   "metadata": {},
   "outputs": [
    {
     "name": "stderr",
     "output_type": "stream",
     "text": [
      "Downloading...\n",
      "From: https://drive.google.com/drive/folders/1CFxBFwB8t8WCtufGQfwGQ8o9ad3bRgpv148SCpWC3EO7phIZZoirIe9itUOgB1Xoe\n",
      "To: /home/lab/Workspace/e2e-mlflow-dvc/research/Chest-CT-Scan-data.zip\n",
      "1.23MB [00:00, 6.72MB/s]\n"
     ]
    },
    {
     "data": {
      "text/plain": [
       "'Chest-CT-Scan-data.zip'"
      ]
     },
     "execution_count": 11,
     "metadata": {},
     "output_type": "execute_result"
    }
   ],
   "source": [
    "prefix = 'https://drive.google.com/drive/folders/1CFxBFwB8t8WCtufGQfwGQ8o9ad3bRgpv'\n",
    "gdown.download(prefix+file_id,\"Chest-CT-Scan-data.zip\")"
   ]
  },
  {
   "cell_type": "code",
   "execution_count": null,
   "id": "4050a892-e09c-4880-a70f-fcda9c0ac7dd",
   "metadata": {},
   "outputs": [],
   "source": []
  },
  {
   "cell_type": "code",
   "execution_count": null,
   "id": "346e1d5c-d45d-47bf-87d1-06f7d4f0123f",
   "metadata": {},
   "outputs": [],
   "source": []
  }
 ],
 "metadata": {
  "kernelspec": {
   "display_name": "Python 3 (ipykernel)",
   "language": "python",
   "name": "python3"
  },
  "language_info": {
   "codemirror_mode": {
    "name": "ipython",
    "version": 3
   },
   "file_extension": ".py",
   "mimetype": "text/x-python",
   "name": "python",
   "nbconvert_exporter": "python",
   "pygments_lexer": "ipython3",
   "version": "3.8.20"
  }
 },
 "nbformat": 4,
 "nbformat_minor": 5
}
